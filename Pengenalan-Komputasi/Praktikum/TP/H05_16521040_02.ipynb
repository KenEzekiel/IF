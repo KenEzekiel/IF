{
 "cells": [
  {
   "cell_type": "code",
   "execution_count": 21,
   "id": "c7965ccc",
   "metadata": {},
   "outputs": [
    {
     "name": "stdout",
     "output_type": "stream",
     "text": [
      "1. Nilai MaFiKi Tuan Ric\n",
      "          nama fakultas  nilai_mat  nilai_kim  nilai_fis\n",
      "3513  Tuan Ric     STEI      96.78      62.23      30.53\n",
      "\n",
      "2. Mahasiswa dengan nilai fisika tertinggi\n",
      "                         nama fakultas  nilai_mat  nilai_kim  nilai_fis\n",
      "1936  Yuniar Fazriani Rusmana     FITB      53.61      67.19      92.57\n",
      "\n",
      "3. 10 mahasiswa dengan nilai kimia tertinggi\n",
      "                          nama fakultas  nilai_mat  nilai_kim  nilai_fis\n",
      "2554      Faathir Reza Avicena     FTSL      57.12      81.50      78.68\n",
      "2779      Dinda A A Z Mundakir     STEI      41.18      81.34      82.60\n",
      "3544        Tammya Ayu Purnomo    SITHS      74.49      81.20      78.58\n",
      "4934    Alyssa Nadhira Windari     FTMD      78.38      78.83      78.68\n",
      "1137          Izni Nur Ibrahim     STEI      56.70      78.46      84.34\n",
      "2262      Rinaldi Oky Setiawan     STEI      71.22      77.44      83.66\n",
      "4070      Ias Azhari Rezkyarno    FMIPA      62.85      76.90      81.52\n",
      "2945           Klara Petra T T     FTSL      73.39      76.61      78.12\n",
      "1788  Naudy Germanimo Laksmana     FTMD      62.29      76.38      76.15\n",
      "1310       Mardliyahtur Rohmah     STEI      63.15      76.36      74.06\n",
      "\n",
      "4. Banyak mahasiswa dengan nilai matematika < 50\n",
      "329\n",
      "\n",
      "5. Banyak mahasiswa FMIPA\n",
      "627\n"
     ]
    }
   ],
   "source": [
    "# NIM/Nama  : 16521040/Kenneth Ezekiel Suprantoni\n",
    "# Tanggal   : 29/11/2021\n",
    "# Deskripsi : TP 02 Praktikum Pengenalan Komputasi: Analisa dan Visualisasi Data\n",
    "\n",
    "# Algoritma\n",
    "\n",
    "import pandas as pd\n",
    "\n",
    "df = pd.read_csv('H05.csv')\n",
    "# print(df)\n",
    "\n",
    "print(\"1. Nilai MaFiKi Tuan Ric\")\n",
    "print(df.loc[df['nama'] == 'Tuan Ric'])\n",
    "print(\"\")\n",
    "i_max = df['nilai_fis'].idxmax()\n",
    "print(\"2. Mahasiswa dengan nilai fisika tertinggi\")\n",
    "print(df[i_max:i_max + 1])\n",
    "print(\"\")\n",
    "print(\"3. 10 mahasiswa dengan nilai kimia tertinggi\")\n",
    "print(df.sort_values(['nilai_kim'], ascending=[0])[:10])\n",
    "print(\"\")\n",
    "print(\"4. Banyak mahasiswa dengan nilai matematika < 50\")\n",
    "print(len(df.loc[df['nilai_mat'] < 50]))\n",
    "# print(df.loc[df['nilai_mat'] < 50])\n",
    "print(\"\")\n",
    "print(\"5. Banyak mahasiswa FMIPA\")\n",
    "print(len(df.loc[df['fakultas'] == 'FMIPA']))\n",
    "# print(df.loc[df['fakultas'] == 'FMIPA'])"
   ]
  },
  {
   "cell_type": "code",
   "execution_count": null,
   "id": "c873938d",
   "metadata": {},
   "outputs": [],
   "source": []
  }
 ],
 "metadata": {
  "kernelspec": {
   "display_name": "Python 3",
   "language": "python",
   "name": "python3"
  },
  "language_info": {
   "codemirror_mode": {
    "name": "ipython",
    "version": 3
   },
   "file_extension": ".py",
   "mimetype": "text/x-python",
   "name": "python",
   "nbconvert_exporter": "python",
   "pygments_lexer": "ipython3",
   "version": "3.8.8"
  }
 },
 "nbformat": 4,
 "nbformat_minor": 5
}
