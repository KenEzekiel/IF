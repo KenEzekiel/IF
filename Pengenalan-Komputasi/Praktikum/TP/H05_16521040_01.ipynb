{
 "cells": [
  {
   "cell_type": "code",
   "execution_count": 30,
   "id": "519a14ff",
   "metadata": {},
   "outputs": [
    {
     "name": "stdout",
     "output_type": "stream",
     "text": [
      "Jumlah baris: 5135\n",
      "Jumlah kolom: 5\n",
      "Banyaknya data: 25675\n",
      "\n",
      "10 Data pertama:                              nama fakultas  nilai_mat  nilai_kim  nilai_fis\n",
      "0            Farhan Fathur Rahman    FMIPA      57.21      34.14      38.93\n",
      "1                  Steven Margono    FMIPA      67.43      51.50      57.20\n",
      "2                    Ryan Sentosa    SAPPK      90.62      37.38      40.73\n",
      "3            Muhajah Babny Muslim    FMIPA      72.31      38.80      44.79\n",
      "4                Alvin Natawiguna     FTSL      65.45      57.67      56.39\n",
      "5                   Sasti Safitri     FTSL      60.58      41.91      51.55\n",
      "6             Dani Yulianto Putra     FTSL      51.67      35.05      48.69\n",
      "7  Nabila Febitsukarizky Bunyamin     FTTM      71.66      67.61      69.75\n",
      "8             Ratna Siti Khodijah      FTI      73.06      59.16      59.48\n",
      "9                    Gita Partiwi     FTSL      69.57      38.84      48.17\n",
      "\n",
      "Data ke-50 sampai 60:                         nama fakultas  nilai_mat  nilai_kim  nilai_fis\n",
      "49      Alief Rizky Ramadhan    SITHS      84.59      42.44      40.48\n",
      "50      Arief Syakur Sutedjo     FTTM      84.40      61.21      73.91\n",
      "51         Fayi Raihan Saleh    FMIPA      60.62      32.57      42.34\n",
      "52          Erna Kristiawati      FTI      67.48      46.78      52.30\n",
      "53                    Albert    SAPPK      70.27      50.10      54.01\n",
      "54  M Jazztyan Indra Pradana     STEI      53.40      43.06      60.30\n",
      "55      Moch Ginanjar Busiri    FMIPA      74.29      38.44      49.15\n",
      "56              Aisya Tamara     FITB      71.49      35.86      37.41\n",
      "57        Tyas Arum Widayati    SAPPK      68.57      37.02      53.25\n",
      "58                Arif Saleh      FTI     100.00      59.79      55.33\n",
      "59     Windy Diwita Nisaekti      FTI      67.15      57.72      54.24\n",
      "\n",
      "Banyaknya mahasiswa per fakultas:\n",
      "FTI      834\n",
      "STEI     777\n",
      "FTSL     660\n",
      "FMIPA    627\n",
      "FTTM     579\n",
      "FTMD     480\n",
      "FITB     403\n",
      "SAPPK    315\n",
      "SITHR    282\n",
      "SITHS    178\n",
      "Name: fakultas, dtype: int64\n",
      "\n",
      "Angka korelasi dari Nilai Fisika dan Kimia: 0.799\n",
      "Karena angka korelasi mendekati 1, maka dapat disimpulkan bahwa kedua kolom relatif berbanding lurus\n"
     ]
    }
   ],
   "source": [
    "# NIM/Nama  : 16521040/Kenneth Ezekiel Suprantoni\n",
    "# Tanggal   : 29/11/2021\n",
    "# Deskripsi : TP 01 Praktikum Pengenalan Komputasi: Analisa dan Visualisasi Data\n",
    "\n",
    "# Algoritma\n",
    "\n",
    "import pandas as pd\n",
    "\n",
    "df = pd.read_csv('H05.csv')\n",
    "# print(df)\n",
    "print(\"Jumlah baris:\", len(df))\n",
    "print(\"Jumlah kolom:\", len(df.columns))\n",
    "print(\"Banyaknya data:\", df.size)\n",
    "print(\"\")\n",
    "\n",
    "print(\"10 Data pertama:\", df[:10])\n",
    "print(\"\")\n",
    "print(\"Data ke-50 sampai 60:\", df[49:60])\n",
    "print(\"\")\n",
    "print(\"Banyaknya mahasiswa per fakultas:\")\n",
    "print(df[\"fakultas\"].value_counts())\n",
    "print(\"\")\n",
    "correlation_num = df[\"nilai_fis\"].corr(df[\"nilai_kim\"])\n",
    "print(\"Angka korelasi dari Nilai Fisika dan Kimia:\", correlation_num.round(3))\n",
    "print(\"Karena angka korelasi mendekati 1, maka dapat disimpulkan bahwa kedua kolom relatif berbanding lurus\")\n",
    "print(\"Hal ini berarti bahwa jika mahasiswa memiliki nilai fisika yang tinggi, nilai kimia yang mahasiswa tersebut miliki akan tinggi juga, dan sebaliknya\")"
   ]
  },
  {
   "cell_type": "code",
   "execution_count": null,
   "id": "93accdd1",
   "metadata": {},
   "outputs": [],
   "source": []
  }
 ],
 "metadata": {
  "kernelspec": {
   "display_name": "Python 3",
   "language": "python",
   "name": "python3"
  },
  "language_info": {
   "codemirror_mode": {
    "name": "ipython",
    "version": 3
   },
   "file_extension": ".py",
   "mimetype": "text/x-python",
   "name": "python",
   "nbconvert_exporter": "python",
   "pygments_lexer": "ipython3",
   "version": "3.8.8"
  }
 },
 "nbformat": 4,
 "nbformat_minor": 5
}
