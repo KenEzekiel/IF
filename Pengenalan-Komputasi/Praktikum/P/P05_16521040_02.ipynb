{
 "cells": [
  {
   "cell_type": "code",
   "execution_count": 15,
   "id": "89e6fdf9",
   "metadata": {},
   "outputs": [
    {
     "name": "stdout",
     "output_type": "stream",
     "text": [
      "1. Ada berapa pengguna tidak aktif yang berusia diatas 50 tahun?\n",
      "506\n",
      "\n",
      "2. ID Pengguna dengan nominal limit kartu kredit terbesar\n",
      "6        810347208\n",
      "45       712661433\n",
      "61       712030833\n",
      "65       788979258\n",
      "70       715971108\n",
      "           ...    \n",
      "10088    709188108\n",
      "10095    789023508\n",
      "10098    716644008\n",
      "10110    718225683\n",
      "10112    708564858\n",
      "Name: CLIENTNUM, Length: 508, dtype: int64\n",
      "\n",
      "3. Ada berapa pengguna kartu blue dengan penggunaan kartu kredit dalam bulan diatas 40?\n",
      "2348\n",
      "\n",
      "4. Banyak pengguna dengan total nominal yang belum dibayar 0 untuk masing-masing kategori penghasilan\n",
      "$60K - $80K       3686\n",
      "Less than $40K    2511\n",
      "$40K - $60K       1388\n",
      "$80K - $120K      1248\n",
      "Unknown            664\n",
      "$120K +            630\n",
      "Name: Income_Category, dtype: int64\n",
      "\n",
      "5. 5 ID pengguna aktif dengan months inactive in 12 months terbanyak\n",
      "6421    772310958\n",
      "3567    708426483\n",
      "2890    708816408\n",
      "6585    721505358\n",
      "4920    798717783\n",
      "Name: CLIENTNUM, dtype: int64\n"
     ]
    }
   ],
   "source": [
    "# NIM/Nama  : 16521040/Kenneth Ezekiel Suprantoni\n",
    "# Tanggal   : 01/11/2021\n",
    "# Deskripsi : P 02 Praktikum Pengenalan Komputasi: Analisa dan Visualisasi Data\n",
    "\n",
    "# Algoritma\n",
    "\n",
    "import pandas as pd\n",
    "\n",
    "df = pd.read_csv('P05-01.csv')\n",
    "\n",
    "# print(df)\n",
    "\n",
    "print(\"1. Ada berapa pengguna tidak aktif yang berusia diatas 50 tahun?\")\n",
    "data_diminta = df.loc[(df['Attrition_Flag'] == \"Attrited Customer\") & (df['Customer_Age'] > 50)]\n",
    "print(len(data_diminta))\n",
    "print(\"\")\n",
    "print(\"2. ID Pengguna dengan nominal limit kartu kredit terbesar\")\n",
    "lim_terbesar = df['Credit_Limit'].max()\n",
    "print(df.loc[df['Credit_Limit'] == lim_terbesar]['CLIENTNUM'])\n",
    "print(\"\")\n",
    "print(\"3. Ada berapa pengguna kartu blue dengan penggunaan kartu kredit dalam bulan diatas 40?\")\n",
    "diminta = df.loc[(df['Card_Category'] == 'Blue') & (df['Months_on_book'] > 40)]\n",
    "print(len(diminta))\n",
    "print(\"\")\n",
    "print(\"4. Banyak pengguna dengan total nominal yang belum dibayar 0 untuk masing-masing kategori penghasilan\")\n",
    "data = df.loc[df['Total_Revolving_Bal']]\n",
    "a = data['Income_Category'].value_counts()\n",
    "print(a)\n",
    "print(\"\")\n",
    "print(\"5. 5 ID pengguna aktif dengan months inactive in 12 months terbanyak\")\n",
    "d = df.sort_values(['Months_Inactive_12_mon'], ascending=[0])\n",
    "# print(d)\n",
    "da = d.loc[d['Attrition_Flag'] == 'Existing Customer']\n",
    "# print(da)\n",
    "print(da['CLIENTNUM'][:5])"
   ]
  },
  {
   "cell_type": "code",
   "execution_count": null,
   "id": "6cf251c2",
   "metadata": {},
   "outputs": [],
   "source": []
  }
 ],
 "metadata": {
  "kernelspec": {
   "display_name": "Python 3",
   "language": "python",
   "name": "python3"
  },
  "language_info": {
   "codemirror_mode": {
    "name": "ipython",
    "version": 3
   },
   "file_extension": ".py",
   "mimetype": "text/x-python",
   "name": "python",
   "nbconvert_exporter": "python",
   "pygments_lexer": "ipython3",
   "version": "3.8.8"
  }
 },
 "nbformat": 4,
 "nbformat_minor": 5
}
